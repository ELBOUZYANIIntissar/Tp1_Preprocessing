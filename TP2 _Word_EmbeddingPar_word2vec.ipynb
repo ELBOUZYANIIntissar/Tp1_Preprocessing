{
  "nbformat": 4,
  "nbformat_minor": 0,
  "metadata": {
    "colab": {
      "provenance": [],
      "authorship_tag": "ABX9TyOEUi9lG5nQPAkSKQaC8f6q",
      "include_colab_link": true
    },
    "kernelspec": {
      "name": "python3",
      "display_name": "Python 3"
    },
    "language_info": {
      "name": "python"
    }
  },
  "cells": [
    {
      "cell_type": "markdown",
      "metadata": {
        "id": "view-in-github",
        "colab_type": "text"
      },
      "source": [
        "<a href=\"https://colab.research.google.com/github/ELBOUZYANIIntissar/Tp1_Preprocessing/blob/main/TP2%C2%A0_Word_EmbeddingPar_word2vec.ipynb\" target=\"_parent\"><img src=\"https://colab.research.google.com/assets/colab-badge.svg\" alt=\"Open In Colab\"/></a>"
      ]
    },
    {
      "cell_type": "markdown",
      "source": [
        "###Importer le fichier texte dans Google Colab :"
      ],
      "metadata": {
        "id": "CoqdDdDjLDDP"
      }
    },
    {
      "cell_type": "code",
      "execution_count": 5,
      "metadata": {
        "colab": {
          "base_uri": "https://localhost:8080/",
          "height": 73
        },
        "id": "QSN-xqxcJPKc",
        "outputId": "9d56c3f7-35e0-49fb-be81-1542d19eddd5"
      },
      "outputs": [
        {
          "output_type": "display_data",
          "data": {
            "text/plain": [
              "<IPython.core.display.HTML object>"
            ],
            "text/html": [
              "\n",
              "     <input type=\"file\" id=\"files-9f51afd3-2883-4e57-8ca0-f13e12f780cb\" name=\"files[]\" multiple disabled\n",
              "        style=\"border:none\" />\n",
              "     <output id=\"result-9f51afd3-2883-4e57-8ca0-f13e12f780cb\">\n",
              "      Upload widget is only available when the cell has been executed in the\n",
              "      current browser session. Please rerun this cell to enable.\n",
              "      </output>\n",
              "      <script>// Copyright 2017 Google LLC\n",
              "//\n",
              "// Licensed under the Apache License, Version 2.0 (the \"License\");\n",
              "// you may not use this file except in compliance with the License.\n",
              "// You may obtain a copy of the License at\n",
              "//\n",
              "//      http://www.apache.org/licenses/LICENSE-2.0\n",
              "//\n",
              "// Unless required by applicable law or agreed to in writing, software\n",
              "// distributed under the License is distributed on an \"AS IS\" BASIS,\n",
              "// WITHOUT WARRANTIES OR CONDITIONS OF ANY KIND, either express or implied.\n",
              "// See the License for the specific language governing permissions and\n",
              "// limitations under the License.\n",
              "\n",
              "/**\n",
              " * @fileoverview Helpers for google.colab Python module.\n",
              " */\n",
              "(function(scope) {\n",
              "function span(text, styleAttributes = {}) {\n",
              "  const element = document.createElement('span');\n",
              "  element.textContent = text;\n",
              "  for (const key of Object.keys(styleAttributes)) {\n",
              "    element.style[key] = styleAttributes[key];\n",
              "  }\n",
              "  return element;\n",
              "}\n",
              "\n",
              "// Max number of bytes which will be uploaded at a time.\n",
              "const MAX_PAYLOAD_SIZE = 100 * 1024;\n",
              "\n",
              "function _uploadFiles(inputId, outputId) {\n",
              "  const steps = uploadFilesStep(inputId, outputId);\n",
              "  const outputElement = document.getElementById(outputId);\n",
              "  // Cache steps on the outputElement to make it available for the next call\n",
              "  // to uploadFilesContinue from Python.\n",
              "  outputElement.steps = steps;\n",
              "\n",
              "  return _uploadFilesContinue(outputId);\n",
              "}\n",
              "\n",
              "// This is roughly an async generator (not supported in the browser yet),\n",
              "// where there are multiple asynchronous steps and the Python side is going\n",
              "// to poll for completion of each step.\n",
              "// This uses a Promise to block the python side on completion of each step,\n",
              "// then passes the result of the previous step as the input to the next step.\n",
              "function _uploadFilesContinue(outputId) {\n",
              "  const outputElement = document.getElementById(outputId);\n",
              "  const steps = outputElement.steps;\n",
              "\n",
              "  const next = steps.next(outputElement.lastPromiseValue);\n",
              "  return Promise.resolve(next.value.promise).then((value) => {\n",
              "    // Cache the last promise value to make it available to the next\n",
              "    // step of the generator.\n",
              "    outputElement.lastPromiseValue = value;\n",
              "    return next.value.response;\n",
              "  });\n",
              "}\n",
              "\n",
              "/**\n",
              " * Generator function which is called between each async step of the upload\n",
              " * process.\n",
              " * @param {string} inputId Element ID of the input file picker element.\n",
              " * @param {string} outputId Element ID of the output display.\n",
              " * @return {!Iterable<!Object>} Iterable of next steps.\n",
              " */\n",
              "function* uploadFilesStep(inputId, outputId) {\n",
              "  const inputElement = document.getElementById(inputId);\n",
              "  inputElement.disabled = false;\n",
              "\n",
              "  const outputElement = document.getElementById(outputId);\n",
              "  outputElement.innerHTML = '';\n",
              "\n",
              "  const pickedPromise = new Promise((resolve) => {\n",
              "    inputElement.addEventListener('change', (e) => {\n",
              "      resolve(e.target.files);\n",
              "    });\n",
              "  });\n",
              "\n",
              "  const cancel = document.createElement('button');\n",
              "  inputElement.parentElement.appendChild(cancel);\n",
              "  cancel.textContent = 'Cancel upload';\n",
              "  const cancelPromise = new Promise((resolve) => {\n",
              "    cancel.onclick = () => {\n",
              "      resolve(null);\n",
              "    };\n",
              "  });\n",
              "\n",
              "  // Wait for the user to pick the files.\n",
              "  const files = yield {\n",
              "    promise: Promise.race([pickedPromise, cancelPromise]),\n",
              "    response: {\n",
              "      action: 'starting',\n",
              "    }\n",
              "  };\n",
              "\n",
              "  cancel.remove();\n",
              "\n",
              "  // Disable the input element since further picks are not allowed.\n",
              "  inputElement.disabled = true;\n",
              "\n",
              "  if (!files) {\n",
              "    return {\n",
              "      response: {\n",
              "        action: 'complete',\n",
              "      }\n",
              "    };\n",
              "  }\n",
              "\n",
              "  for (const file of files) {\n",
              "    const li = document.createElement('li');\n",
              "    li.append(span(file.name, {fontWeight: 'bold'}));\n",
              "    li.append(span(\n",
              "        `(${file.type || 'n/a'}) - ${file.size} bytes, ` +\n",
              "        `last modified: ${\n",
              "            file.lastModifiedDate ? file.lastModifiedDate.toLocaleDateString() :\n",
              "                                    'n/a'} - `));\n",
              "    const percent = span('0% done');\n",
              "    li.appendChild(percent);\n",
              "\n",
              "    outputElement.appendChild(li);\n",
              "\n",
              "    const fileDataPromise = new Promise((resolve) => {\n",
              "      const reader = new FileReader();\n",
              "      reader.onload = (e) => {\n",
              "        resolve(e.target.result);\n",
              "      };\n",
              "      reader.readAsArrayBuffer(file);\n",
              "    });\n",
              "    // Wait for the data to be ready.\n",
              "    let fileData = yield {\n",
              "      promise: fileDataPromise,\n",
              "      response: {\n",
              "        action: 'continue',\n",
              "      }\n",
              "    };\n",
              "\n",
              "    // Use a chunked sending to avoid message size limits. See b/62115660.\n",
              "    let position = 0;\n",
              "    do {\n",
              "      const length = Math.min(fileData.byteLength - position, MAX_PAYLOAD_SIZE);\n",
              "      const chunk = new Uint8Array(fileData, position, length);\n",
              "      position += length;\n",
              "\n",
              "      const base64 = btoa(String.fromCharCode.apply(null, chunk));\n",
              "      yield {\n",
              "        response: {\n",
              "          action: 'append',\n",
              "          file: file.name,\n",
              "          data: base64,\n",
              "        },\n",
              "      };\n",
              "\n",
              "      let percentDone = fileData.byteLength === 0 ?\n",
              "          100 :\n",
              "          Math.round((position / fileData.byteLength) * 100);\n",
              "      percent.textContent = `${percentDone}% done`;\n",
              "\n",
              "    } while (position < fileData.byteLength);\n",
              "  }\n",
              "\n",
              "  // All done.\n",
              "  yield {\n",
              "    response: {\n",
              "      action: 'complete',\n",
              "    }\n",
              "  };\n",
              "}\n",
              "\n",
              "scope.google = scope.google || {};\n",
              "scope.google.colab = scope.google.colab || {};\n",
              "scope.google.colab._files = {\n",
              "  _uploadFiles,\n",
              "  _uploadFilesContinue,\n",
              "};\n",
              "})(self);\n",
              "</script> "
            ]
          },
          "metadata": {}
        },
        {
          "output_type": "stream",
          "name": "stdout",
          "text": [
            "Saving text to text\n"
          ]
        }
      ],
      "source": [
        "from google.colab import files\n",
        "\n",
        "# Uploader le fichier texte\n",
        "uploaded = files.upload()\n"
      ]
    },
    {
      "cell_type": "code",
      "source": [
        "#Chemin vers le fichier texte\n",
        "MyFile = './text'\n",
        "\n",
        "with open(MyFile, 'r', encoding='utf-8') as fichier:\n",
        "    # Lire le contenu du fichier\n",
        "    texte = fichier.read()\n",
        "\n",
        "print(texte)\n"
      ],
      "metadata": {
        "colab": {
          "base_uri": "https://localhost:8080/"
        },
        "id": "LFl6bKbRP0v8",
        "outputId": "04c36c02-6b13-459c-89b8-28cb3f9deec8"
      },
      "execution_count": 6,
      "outputs": [
        {
          "output_type": "stream",
          "name": "stdout",
          "text": [
            "**Morocco and Marrakech: A Tapestry of Tradition and Modernity** Morocco, located at the crossroads of Europe and Africa, is a country drenched in history, mystery, and cultural richness. A testament to the ancient civilizations that once flourished here, this North African kingdom boasts a unique blend of Arab, Berber, and European influences. At the heart of Morocco's rich tapestry lies Marrakech, one of its four imperial cities and a vibrant epicenter of tradition and modernity. **Geographical Significance** Morocco is bordered by the Atlantic Ocean to the west, the Mediterranean Sea to the north, Algeria to the east and southeast, and the vast Sahara desert to the south. Its strategic location has historically made it a sought-after territory and a melting pot of cultures, religions, and trade routes. **Marrakech: The Red City** Marrakech, often referred to as \"The Red City\" due to its distinctive red-hued buildings, stands against the backdrop of the snow-capped Atlas Mountains. Established in the 11th century, it has remained a crucial political, economic, and cultural center of Morocco. **Journey through the Medina** Marrakech's old town, the Medina, is a UNESCO World Heritage site and a labyrinthine maze of narrow alleys, bustling souks, and historical landmarks. The Djemaa el-Fna Square lies at the heart of the Medina and comes alive every evening with storytellers, musicians, snake charmers, and food stalls offering tantalizing Moroccan delicacies. **Palaces and Gardens** The city is also home to grand palaces like the Bahia Palace, showcasing intricate Islamic architecture, and the Saadian Tombs, remnants of the Saadian dynasty. The Majorelle Garden, restored by the fashion designer Yves Saint Laurent, is a tranquil oasis of cacti, palm trees, and cobalt blue accents. **Modern Marrakech** While tradition and history permeate Marrakech, the city is not averse to the modern world. Gueliz, the new town, is brimming with contemporary art galleries, stylish cafes, and chic boutiques, offering a stark contrast to the ancient Medina. **Moroccan Cuisine** No journey through Morocco and Marrakech would be complete without indulging in the local cuisine. Tagines, couscous, and pastilla are just a few of the many dishes that combine a plethora of flavors and spices like saffron, cumin, and mint. Paired with Moroccan mint tea, the culinary experience is truly unparalleled. **In Conclusion** Morocco, with Marrakech at its heart, offers travelers an unparalleled journey through time. The convergence of history, culture, architecture, and gastronomy makes it an enthralling destination for those seeking both adventure and reflection. As the Moroccan proverb goes, \"He who does not travel does not know the value of men.\" In the case of Morocco and Marrakech, it's not just the value of men, but also the value of time, tradition, and tales that have spanned centuries.\n"
          ]
        }
      ]
    },
    {
      "cell_type": "markdown",
      "source": [
        "##Tokenisation:\n",
        "###La tokenisation d'un texte consiste à diviser le texte en unités plus petites appelées \"*tokens*\". Ces tokens peuvent être des mots, des phrases, ou même des caractères, selon le niveau de granularité qu'on souhaite atteindre. La tokenisation est une étape essentielle dans le traitement du langage naturel (NLP) et est généralement effectuée avant d'appliquer des algorithmes d'apprentissage automatique sur le texte."
      ],
      "metadata": {
        "id": "oGJEYZqffFCa"
      }
    },
    {
      "cell_type": "code",
      "source": [
        "import nltk\n",
        "nltk.download('punkt')\n",
        "nltk.download('stopwords')\n",
        "from nltk.tokenize import word_tokenize\n",
        "from gensim.models import Word2Vec\n"
      ],
      "metadata": {
        "id": "CUSmOn1rsQUA",
        "outputId": "2699f569-0df9-4365-d8d6-b5aacd9607a7",
        "colab": {
          "base_uri": "https://localhost:8080/"
        }
      },
      "execution_count": 10,
      "outputs": [
        {
          "output_type": "stream",
          "name": "stderr",
          "text": [
            "[nltk_data] Downloading package punkt to /root/nltk_data...\n",
            "[nltk_data]   Package punkt is already up-to-date!\n",
            "[nltk_data] Downloading package stopwords to /root/nltk_data...\n",
            "[nltk_data]   Package stopwords is already up-to-date!\n"
          ]
        }
      ]
    },
    {
      "cell_type": "code",
      "source": [
        "#Prétraitement du texte\n",
        "def preprocess_text(text):\n",
        "    tokens = word_tokenize(text)\n",
        "    tokens = [word.lower() for word in tokens if word.isalpha()]\n",
        "    tokens = [word for word in tokens if word not in stopwords.words('english')]\n",
        "    return tokens\n",
        "\n",
        "#Le prétraitement de notre texte\n",
        "tokenized_text = preprocess_text(texte)\n",
        "\n",
        "#l'entraînement du modèle Word2Vec\n",
        "model = Word2Vec([tokenized_text], vector_size=100, window=5, min_count=1, workers=4)\n",
        "\n",
        "#Sauvegarde du modèle\n",
        "model.save('word2vec_model.bin')"
      ],
      "metadata": {
        "id": "LMd3oz7NfMBe"
      },
      "execution_count": 16,
      "outputs": []
    },
    {
      "cell_type": "code",
      "source": [
        "!pip install gensim\n",
        "\n",
        "# Charger le modèle Word2Vec depuis le fichier sauvegardé\n",
        "model = Word2Vec.load('word2vec_model.bin')\n",
        "\n",
        "#choix du mot à extraire\n",
        "mot_a_extraire = 'tradition'\n",
        "\n",
        "#1-Extraire la représentation vectorielle du mot\n",
        "representation_vectorielle = model.wv.get_vector(mot_a_extraire)\n",
        "\n",
        "#Affichage de la représentation vectorielle\n",
        "print(f\"Représentation vectorielle du mot '{mot_a_extraire}': {representation_vectorielle}\")\n"
      ],
      "metadata": {
        "colab": {
          "base_uri": "https://localhost:8080/"
        },
        "id": "uD54CMtAjdA0",
        "outputId": "5e6a9182-deef-4db3-dec9-1b1835df1f8f"
      },
      "execution_count": 19,
      "outputs": [
        {
          "output_type": "stream",
          "name": "stdout",
          "text": [
            "Requirement already satisfied: gensim in /usr/local/lib/python3.10/dist-packages (4.3.2)\n",
            "Requirement already satisfied: numpy>=1.18.5 in /usr/local/lib/python3.10/dist-packages (from gensim) (1.25.2)\n",
            "Requirement already satisfied: scipy>=1.7.0 in /usr/local/lib/python3.10/dist-packages (from gensim) (1.11.4)\n",
            "Requirement already satisfied: smart-open>=1.8.1 in /usr/local/lib/python3.10/dist-packages (from gensim) (6.4.0)\n",
            "Représentation vectorielle du mot 'tradition': [ 4.7668644e-05  3.1225781e-03 -6.8202475e-03 -1.3511913e-03\n",
            "  7.6562213e-03  7.2623566e-03 -3.6635108e-03  2.7226058e-03\n",
            " -8.3552822e-03  6.1679538e-03 -4.6419334e-03 -3.1950295e-03\n",
            "  9.3309404e-03  8.9489552e-04  7.4725715e-03 -6.0763066e-03\n",
            "  5.1618451e-03  9.8451627e-03 -8.4988261e-03 -5.2398732e-03\n",
            " -7.1086325e-03 -4.8413794e-03 -3.7612773e-03 -8.5293446e-03\n",
            "  7.9315957e-03 -4.8315418e-03  8.4200529e-03  5.1941788e-03\n",
            " -6.5882797e-03  3.9522531e-03  5.4729600e-03 -7.3978659e-03\n",
            " -7.3691942e-03 -2.4556832e-03 -8.6682066e-03 -1.4860976e-03\n",
            " -3.8502563e-04  3.2881093e-03  1.3991735e-03 -9.2941464e-04\n",
            " -5.5719377e-03  1.6341889e-03 -9.3675312e-04  6.7789978e-03\n",
            "  3.9975713e-03  4.5258775e-03  1.4410020e-03 -2.7340308e-03\n",
            " -4.3688794e-03 -9.9363597e-04  1.4648928e-03 -2.6805489e-03\n",
            " -7.0541273e-03 -7.8082080e-03 -9.1415131e-03 -5.9055965e-03\n",
            " -1.8292776e-03 -4.3626497e-03 -6.4927367e-03 -3.7019735e-03\n",
            "  4.3089674e-03 -3.7357297e-03  8.3715189e-03  1.4827515e-03\n",
            " -7.2807567e-03  9.4626974e-03  7.6707238e-03  5.5379756e-03\n",
            " -6.9006602e-03  5.8659576e-03  4.0015690e-03  5.2153263e-03\n",
            "  4.2592352e-03  1.9026746e-03 -3.1031296e-03  8.3936835e-03\n",
            "  9.6006291e-03  3.8036052e-03 -2.8840730e-03  2.6666214e-05\n",
            "  1.2437190e-03 -8.4364368e-03 -8.3015077e-03 -1.7872131e-04\n",
            "  1.2249728e-03 -5.7536718e-03 -4.7195386e-03 -7.2804173e-03\n",
            "  8.4000099e-03  1.1575017e-04 -4.4665467e-03  5.7626585e-03\n",
            "  9.1696931e-03 -4.0460625e-03  8.0364374e-03  5.4098140e-03\n",
            "  5.9050880e-03  4.9019308e-04  8.2063824e-03 -7.0470646e-03]\n"
          ]
        }
      ]
    },
    {
      "cell_type": "code",
      "source": [
        "##2-Calculer la similarité entre deux mots\n",
        "\n",
        "mot1 = 'tradition'\n",
        "mot2 = 'marrakech'\n",
        "\n",
        "similarite = model.wv.similarity(mot1, mot2)\n",
        "\n",
        "#Affichage de résultat de la similarité entre les 2 mots choisis\n",
        "print(f\"Similarité entre '{mot1}' et '{mot2}': {similarite}\")\n"
      ],
      "metadata": {
        "colab": {
          "base_uri": "https://localhost:8080/"
        },
        "id": "pdpGl5xdoOLB",
        "outputId": "4b4307ff-4fd6-4d15-8de5-b6dd9857bd76"
      },
      "execution_count": 14,
      "outputs": [
        {
          "output_type": "stream",
          "name": "stdout",
          "text": [
            "Similarité entre 'tradition' et 'marrakech': -0.04887668043375015\n"
          ]
        }
      ]
    },
    {
      "cell_type": "code",
      "source": [
        "##3-Extraire les mots contextuels (les plus similaires) pour un mot central donné\n",
        "#Le mot central choisi\n",
        "mot_central = 'modernity'\n",
        "\n",
        "#Extraire les mots contextuels les plus similaires\n",
        "mots_contextuels_similaires = model.wv.similar_by_word(mot_central, topn=5)\n",
        "\n",
        "#Les mots contextuels similaires\n",
        "print(f\"Les mots contextuels similaires pour '{mot_central}' sont: {mots_contextuels_similaires}\")\n"
      ],
      "metadata": {
        "colab": {
          "base_uri": "https://localhost:8080/"
        },
        "id": "hxo4Amn5oiIn",
        "outputId": "d832861a-458d-4c0c-92b0-a3dcbc0e4889"
      },
      "execution_count": 15,
      "outputs": [
        {
          "output_type": "stream",
          "name": "stdout",
          "text": [
            "Les mots contextuels similaires pour 'modernity' sont: [('heart', 0.31963303685188293), ('culture', 0.25231900811195374), ('world', 0.18936574459075928), ('also', 0.1620761901140213), ('experience', 0.1617429107427597)]\n"
          ]
        }
      ]
    }
  ]
}